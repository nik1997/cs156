{
 "cells": [
  {
   "cell_type": "code",
   "execution_count": 1,
   "metadata": {
    "colab": {},
    "colab_type": "code",
    "id": "4JmUZcVcXFpu"
   },
   "outputs": [],
   "source": [
    "# The files are downloaded from \n",
    "## https://www.lendingclub.com/info/download-data.action\n",
    "import numpy as np\n",
    "import pandas as pd\n",
    "\n",
    "#Loading data to the data set\n",
    "appr_data = pd.read_csv('LoanStats2015.csv', low_memory=False, header=1)\n",
    "reject_data = pd.read_csv('RejectStats2015.csv', low_memory=False, header=1)"
   ]
  },
  {
   "cell_type": "code",
   "execution_count": 2,
   "metadata": {
    "colab": {
     "base_uri": "https://localhost:8080/",
     "height": 204
    },
    "colab_type": "code",
    "id": "Wu1ghsi9XNUR",
    "outputId": "23744d38-3983-4dc2-d560-1503dd497fbf"
   },
   "outputs": [
    {
     "data": {
      "text/html": [
       "<div>\n",
       "<style scoped>\n",
       "    .dataframe tbody tr th:only-of-type {\n",
       "        vertical-align: middle;\n",
       "    }\n",
       "\n",
       "    .dataframe tbody tr th {\n",
       "        vertical-align: top;\n",
       "    }\n",
       "\n",
       "    .dataframe thead th {\n",
       "        text-align: right;\n",
       "    }\n",
       "</style>\n",
       "<table border=\"1\" class=\"dataframe\">\n",
       "  <thead>\n",
       "    <tr style=\"text-align: right;\">\n",
       "      <th></th>\n",
       "      <th>loan_amnt</th>\n",
       "      <th>title</th>\n",
       "      <th>dti</th>\n",
       "      <th>state</th>\n",
       "      <th>emp_length</th>\n",
       "      <th>loan_accepted</th>\n",
       "    </tr>\n",
       "  </thead>\n",
       "  <tbody>\n",
       "    <tr>\n",
       "      <th>0</th>\n",
       "      <td>28000.0</td>\n",
       "      <td>Debt consolidation</td>\n",
       "      <td>0.2160</td>\n",
       "      <td>NC</td>\n",
       "      <td>10+ years</td>\n",
       "      <td>1</td>\n",
       "    </tr>\n",
       "    <tr>\n",
       "      <th>1</th>\n",
       "      <td>17600.0</td>\n",
       "      <td>NaN</td>\n",
       "      <td>0.1756</td>\n",
       "      <td>FL</td>\n",
       "      <td>&lt; 1 year</td>\n",
       "      <td>1</td>\n",
       "    </tr>\n",
       "    <tr>\n",
       "      <th>2</th>\n",
       "      <td>12000.0</td>\n",
       "      <td>Credit card refinancing</td>\n",
       "      <td>0.3195</td>\n",
       "      <td>NJ</td>\n",
       "      <td>3 years</td>\n",
       "      <td>1</td>\n",
       "    </tr>\n",
       "    <tr>\n",
       "      <th>3</th>\n",
       "      <td>33600.0</td>\n",
       "      <td>Debt consolidation</td>\n",
       "      <td>0.1401</td>\n",
       "      <td>OH</td>\n",
       "      <td>8 years</td>\n",
       "      <td>1</td>\n",
       "    </tr>\n",
       "    <tr>\n",
       "      <th>4</th>\n",
       "      <td>11550.0</td>\n",
       "      <td>Credit card refinancing</td>\n",
       "      <td>0.2107</td>\n",
       "      <td>OH</td>\n",
       "      <td>5 years</td>\n",
       "      <td>1</td>\n",
       "    </tr>\n",
       "  </tbody>\n",
       "</table>\n",
       "</div>"
      ],
      "text/plain": [
       "   loan_amnt                    title     dti state emp_length  loan_accepted\n",
       "0    28000.0       Debt consolidation  0.2160    NC  10+ years              1\n",
       "1    17600.0                      NaN  0.1756    FL   < 1 year              1\n",
       "2    12000.0  Credit card refinancing  0.3195    NJ    3 years              1\n",
       "3    33600.0       Debt consolidation  0.1401    OH    8 years              1\n",
       "4    11550.0  Credit card refinancing  0.2107    OH    5 years              1"
      ]
     },
     "execution_count": 2,
     "metadata": {},
     "output_type": "execute_result"
    }
   ],
   "source": [
    "import copy\n",
    "\n",
    "approved_data = copy.deepcopy(appr_data)\n",
    "rejected_data = copy.deepcopy(reject_data)\n",
    "\n",
    "\n",
    "#Creating dataset for approved_data\n",
    "approved_data = approved_data[['loan_amnt', 'title', 'dti', 'addr_state','emp_length']]\n",
    "approved_data = approved_data.rename(columns={\n",
    "                'addr_state': 'state', \n",
    "            })\n",
    "\n",
    "# Assigning loan_acceptance status to 1 for all the data in approved_data\n",
    "loan_accepted_1 = np.array([1 for _ in range(0,len(approved_data))])\n",
    "approved_data = approved_data.assign(loan_accepted=loan_accepted_1)\n",
    "\n",
    "approved_data.head()"
   ]
  },
  {
   "cell_type": "code",
   "execution_count": 3,
   "metadata": {
    "colab": {
     "base_uri": "https://localhost:8080/",
     "height": 204
    },
    "colab_type": "code",
    "id": "v2PFV5rMXN77",
    "outputId": "2ed29f3c-7695-40b0-cf83-5f8ddea7fe1f"
   },
   "outputs": [
    {
     "data": {
      "text/html": [
       "<div>\n",
       "<style scoped>\n",
       "    .dataframe tbody tr th:only-of-type {\n",
       "        vertical-align: middle;\n",
       "    }\n",
       "\n",
       "    .dataframe tbody tr th {\n",
       "        vertical-align: top;\n",
       "    }\n",
       "\n",
       "    .dataframe thead th {\n",
       "        text-align: right;\n",
       "    }\n",
       "</style>\n",
       "<table border=\"1\" class=\"dataframe\">\n",
       "  <thead>\n",
       "    <tr style=\"text-align: right;\">\n",
       "      <th></th>\n",
       "      <th>loan_amnt</th>\n",
       "      <th>title</th>\n",
       "      <th>dti</th>\n",
       "      <th>state</th>\n",
       "      <th>emp_length</th>\n",
       "      <th>loan_accepted</th>\n",
       "    </tr>\n",
       "  </thead>\n",
       "  <tbody>\n",
       "    <tr>\n",
       "      <th>305711</th>\n",
       "      <td>5000.0</td>\n",
       "      <td>medical</td>\n",
       "      <td>2.62%</td>\n",
       "      <td>PA</td>\n",
       "      <td>&lt; 1 year</td>\n",
       "      <td>0</td>\n",
       "    </tr>\n",
       "    <tr>\n",
       "      <th>1484405</th>\n",
       "      <td>17500.0</td>\n",
       "      <td>car</td>\n",
       "      <td>20.12%</td>\n",
       "      <td>FL</td>\n",
       "      <td>5 years</td>\n",
       "      <td>0</td>\n",
       "    </tr>\n",
       "    <tr>\n",
       "      <th>2215104</th>\n",
       "      <td>1500.0</td>\n",
       "      <td>other</td>\n",
       "      <td>20.85%</td>\n",
       "      <td>IL</td>\n",
       "      <td>&lt; 1 year</td>\n",
       "      <td>0</td>\n",
       "    </tr>\n",
       "    <tr>\n",
       "      <th>963395</th>\n",
       "      <td>25000.0</td>\n",
       "      <td>debt_consolidation</td>\n",
       "      <td>72.23%</td>\n",
       "      <td>TX</td>\n",
       "      <td>&lt; 1 year</td>\n",
       "      <td>0</td>\n",
       "    </tr>\n",
       "    <tr>\n",
       "      <th>2249467</th>\n",
       "      <td>6000.0</td>\n",
       "      <td>debt_consolidation</td>\n",
       "      <td>33.89%</td>\n",
       "      <td>KS</td>\n",
       "      <td>&lt; 1 year</td>\n",
       "      <td>0</td>\n",
       "    </tr>\n",
       "  </tbody>\n",
       "</table>\n",
       "</div>"
      ],
      "text/plain": [
       "         loan_amnt               title     dti state emp_length  loan_accepted\n",
       "305711      5000.0             medical   2.62%    PA   < 1 year              0\n",
       "1484405    17500.0                 car  20.12%    FL    5 years              0\n",
       "2215104     1500.0               other  20.85%    IL   < 1 year              0\n",
       "963395     25000.0  debt_consolidation  72.23%    TX   < 1 year              0\n",
       "2249467     6000.0  debt_consolidation  33.89%    KS   < 1 year              0"
      ]
     },
     "execution_count": 3,
     "metadata": {},
     "output_type": "execute_result"
    }
   ],
   "source": [
    "# Cleaning and transforming rejected_data\n",
    "rejected_data = rejected_data[['Amount Requested', 'Loan Title', 'Debt-To-Income Ratio', 'State', 'Employment Length']]\n",
    "rejected_data = rejected_data.rename(columns={\n",
    "                'Amount Requested': 'loan_amnt', \n",
    "                'Loan Title': 'title',\n",
    "                'Debt-To-Income Ratio': 'dti',\n",
    "                'State': 'state',\n",
    "                'Employment Length': 'emp_length'\n",
    "            })\n",
    "\n",
    "# Assigning loan_acceptance status to 0 for all the data in approved_data\n",
    "loan_accepted_0 = np.array([0 for _ in range(0,len(rejected_data))])\n",
    "rejected_data = rejected_data.assign(loan_accepted=loan_accepted_0)\n",
    "\n",
    "# As rejected_data has huge number of data compared to approved_data, only taking a slice of data\n",
    "# that is of equal size of approved_data to balance both approved and rejected data\n",
    "rejected_data = rejected_data.sample(n=len(approved_data), replace=True, random_state=0)\n",
    "rejected_data.head()"
   ]
  },
  {
   "cell_type": "code",
   "execution_count": 4,
   "metadata": {
    "colab": {},
    "colab_type": "code",
    "id": "h9NzuFUvXOJv"
   },
   "outputs": [],
   "source": [
    "# Cleaning `title` variable in the data set\n",
    "# There are multiple represention of same category, which are renamed to one common name\n",
    "# Unassigned category are converted to 'Other' category\n",
    "\n",
    "title_dict = {\n",
    "    'Debt consolidation': 'Debt consolidation',\n",
    "    'debt_consolidation': 'Debt consolidation',\n",
    "    'Credit card refinancing': 'Credit card refinancing',\n",
    "    'major_purchase': 'Major purchase',\n",
    "    'moving': 'Moving and relocation',\n",
    "    'house': 'Home buying',\n",
    "    'other': 'Other',\n",
    "    'credit_card': 'Credit card refinancing',\n",
    "    'medical': 'Medical expenses',\n",
    "    'car': 'Car financing',\n",
    "    'home_improvement': 'Home improvement',\n",
    "    'Business Loan': 'Business loan',\n",
    "    'Business': 'Business loan',\n",
    "    'Other': 'Other',\n",
    "    'vacation': 'Vacation',\n",
    "    'small_business': 'Business loan',\n",
    "    'renewable_energy': 'Green loan',\n",
    "    'Car financing': 'Car financing',\n",
    "    'Home buying': 'Home buying',\n",
    "    'Major purchase': 'Major purchase',\n",
    "    'Medical expenses': 'Medical expenses',\n",
    "    'Vacation': 'Vacation',\n",
    "    'Moving and relocation': 'Moving and relocation',\n",
    "    'Green loan': 'Green loan',\n",
    "    'Business Line of Credit': 'Business Loan',\n",
    "    '10 months away from being an RN': 'Other',\n",
    "    'althea9621': 'Other',\n",
    "    'Need a decent rate on car financing': 'Car financing',\n",
    "    'Auto Financing': 'Car financing',\n",
    "    'smmoore2': 'Other', \n",
    "    'thad31': 'Other', \n",
    "    'dougie03': 'Other', \n",
    "    'freeup': 'Other',\n",
    "    'Business Advertising Loan': 'Business loan',\n",
    "    'Consolidation Loan': 'Debt consolidation',\n",
    "    'loan': 'Other',\n",
    "    'educational': 'Student loan',\n",
    "    'Consolidate debt': 'Debt consolidation',\n",
    "    'Small Business Expansion': 'Business loan',\n",
    "    'SAVE': 'Other',\n",
    "    'Learning and training': 'Training',\n",
    "    'new day': 'Other',\n",
    "    'Trying to come back to reality!': 'Other',\n",
    "    'considerate': 'Other',\n",
    "    'Paying off higher interest cards & auto': 'Debt consolidation',\n",
    "    'Simple Loan Until Contract Is Completed': 'Other',\n",
    "    'Prescription Drug and Medical Costs': 'Medical expense',\n",
    "    'Pay off Lowes Card': 'Debt consolidation',\n",
    "    'new kitchen for momma!': 'Other',\n",
    "    'DebtC': 'Debt consolidation',\n",
    "    'New Baby and New House (CC Consolidate)': 'Debt consolidation',\n",
    "    'Credit Card/Auto Repair': 'Credit card refinancing',\n",
    "    'Student Loan': 'Student loan'\n",
    "}\n",
    "\n",
    "approved_data.title = approved_data.title.map(title_dict)\n",
    "rejected_data.title = rejected_data.title.map(title_dict)"
   ]
  },
  {
   "cell_type": "code",
   "execution_count": 5,
   "metadata": {
    "colab": {
     "base_uri": "https://localhost:8080/",
     "height": 204
    },
    "colab_type": "code",
    "id": "abp3XxU2XOTa",
    "outputId": "713cdaa6-1666-4ac4-88b4-ff065ddad8a2"
   },
   "outputs": [
    {
     "data": {
      "text/html": [
       "<div>\n",
       "<style scoped>\n",
       "    .dataframe tbody tr th:only-of-type {\n",
       "        vertical-align: middle;\n",
       "    }\n",
       "\n",
       "    .dataframe tbody tr th {\n",
       "        vertical-align: top;\n",
       "    }\n",
       "\n",
       "    .dataframe thead th {\n",
       "        text-align: right;\n",
       "    }\n",
       "</style>\n",
       "<table border=\"1\" class=\"dataframe\">\n",
       "  <thead>\n",
       "    <tr style=\"text-align: right;\">\n",
       "      <th></th>\n",
       "      <th>loan_amnt</th>\n",
       "      <th>title</th>\n",
       "      <th>dti</th>\n",
       "      <th>state</th>\n",
       "      <th>emp_length</th>\n",
       "      <th>loan_accepted</th>\n",
       "    </tr>\n",
       "  </thead>\n",
       "  <tbody>\n",
       "    <tr>\n",
       "      <th>305711</th>\n",
       "      <td>5000.0</td>\n",
       "      <td>Medical expenses</td>\n",
       "      <td>0.0262</td>\n",
       "      <td>PA</td>\n",
       "      <td>&lt; 1 year</td>\n",
       "      <td>0</td>\n",
       "    </tr>\n",
       "    <tr>\n",
       "      <th>1484405</th>\n",
       "      <td>17500.0</td>\n",
       "      <td>Car financing</td>\n",
       "      <td>0.2012</td>\n",
       "      <td>FL</td>\n",
       "      <td>5 years</td>\n",
       "      <td>0</td>\n",
       "    </tr>\n",
       "    <tr>\n",
       "      <th>2215104</th>\n",
       "      <td>1500.0</td>\n",
       "      <td>Other</td>\n",
       "      <td>0.2085</td>\n",
       "      <td>IL</td>\n",
       "      <td>&lt; 1 year</td>\n",
       "      <td>0</td>\n",
       "    </tr>\n",
       "    <tr>\n",
       "      <th>963395</th>\n",
       "      <td>25000.0</td>\n",
       "      <td>Debt consolidation</td>\n",
       "      <td>0.7223</td>\n",
       "      <td>TX</td>\n",
       "      <td>&lt; 1 year</td>\n",
       "      <td>0</td>\n",
       "    </tr>\n",
       "    <tr>\n",
       "      <th>2249467</th>\n",
       "      <td>6000.0</td>\n",
       "      <td>Debt consolidation</td>\n",
       "      <td>0.3389</td>\n",
       "      <td>KS</td>\n",
       "      <td>&lt; 1 year</td>\n",
       "      <td>0</td>\n",
       "    </tr>\n",
       "  </tbody>\n",
       "</table>\n",
       "</div>"
      ],
      "text/plain": [
       "         loan_amnt               title     dti state emp_length  loan_accepted\n",
       "305711      5000.0    Medical expenses  0.0262    PA   < 1 year              0\n",
       "1484405    17500.0       Car financing  0.2012    FL    5 years              0\n",
       "2215104     1500.0               Other  0.2085    IL   < 1 year              0\n",
       "963395     25000.0  Debt consolidation  0.7223    TX   < 1 year              0\n",
       "2249467     6000.0  Debt consolidation  0.3389    KS   < 1 year              0"
      ]
     },
     "execution_count": 5,
     "metadata": {},
     "output_type": "execute_result"
    }
   ],
   "source": [
    "# converting dti into ratios as they are given in percentage for approved data\n",
    "approved_data['dti'] = approved_data['dti']/100\n",
    "\n",
    "# Converting string values to number, cleaning nan values, converting to numbers and dividing by 100\n",
    "# to make a ratio\n",
    "rejected_data.dti = rejected_data.dti.str.slice(0,-1)\n",
    "rejected_data.dti = rejected_data.dti.replace('-',np.nan)\n",
    "rejected_data.dti = rejected_data.dti.replace('-1',np.nan)\n",
    "rejected_data = rejected_data.dropna()\n",
    "rejected_data.dti = pd.to_numeric(rejected_data.dti)\n",
    "rejected_data.dti = rejected_data.dti.div(100)\n",
    "rejected_data.head()"
   ]
  },
  {
   "cell_type": "code",
   "execution_count": 6,
   "metadata": {
    "colab": {},
    "colab_type": "code",
    "id": "XknKz2RiXObZ"
   },
   "outputs": [],
   "source": [
    "# Cleaning emp_length\n",
    "emp_length_dict = {\n",
    "    '< 1 year': 0,\n",
    "    '1 year': 1,\n",
    "    '2 years': 2,\n",
    "    '3 years': 3,\n",
    "    '4 years': 4,\n",
    "    '5 years': 5,\n",
    "    '6 years': 6,\n",
    "    '7 years': 7,\n",
    "    '8 years': 8,\n",
    "    '9 years': 9,\n",
    "    '10 years': 10,\n",
    "    '10+ years': 10\n",
    "}\n",
    "approved_data.emp_length = approved_data.emp_length.map(emp_length_dict)\n",
    "rejected_data.emp_length = rejected_data.emp_length.map(emp_length_dict)"
   ]
  },
  {
   "cell_type": "code",
   "execution_count": 7,
   "metadata": {
    "colab": {
     "base_uri": "https://localhost:8080/",
     "height": 204
    },
    "colab_type": "code",
    "id": "buBCPPinXOjT",
    "outputId": "60908788-316b-4c29-c47f-4b962bdb46fc"
   },
   "outputs": [
    {
     "data": {
      "text/html": [
       "<div>\n",
       "<style scoped>\n",
       "    .dataframe tbody tr th:only-of-type {\n",
       "        vertical-align: middle;\n",
       "    }\n",
       "\n",
       "    .dataframe tbody tr th {\n",
       "        vertical-align: top;\n",
       "    }\n",
       "\n",
       "    .dataframe thead th {\n",
       "        text-align: right;\n",
       "    }\n",
       "</style>\n",
       "<table border=\"1\" class=\"dataframe\">\n",
       "  <thead>\n",
       "    <tr style=\"text-align: right;\">\n",
       "      <th></th>\n",
       "      <th>loan_amnt</th>\n",
       "      <th>title</th>\n",
       "      <th>dti</th>\n",
       "      <th>state</th>\n",
       "      <th>emp_length</th>\n",
       "      <th>loan_accepted</th>\n",
       "    </tr>\n",
       "  </thead>\n",
       "  <tbody>\n",
       "    <tr>\n",
       "      <th>0</th>\n",
       "      <td>28000.0</td>\n",
       "      <td>Debt consolidation</td>\n",
       "      <td>0.002160</td>\n",
       "      <td>NC</td>\n",
       "      <td>10.0</td>\n",
       "      <td>1</td>\n",
       "    </tr>\n",
       "    <tr>\n",
       "      <th>1</th>\n",
       "      <td>12000.0</td>\n",
       "      <td>Credit card refinancing</td>\n",
       "      <td>0.003195</td>\n",
       "      <td>NJ</td>\n",
       "      <td>3.0</td>\n",
       "      <td>1</td>\n",
       "    </tr>\n",
       "    <tr>\n",
       "      <th>2</th>\n",
       "      <td>33600.0</td>\n",
       "      <td>Debt consolidation</td>\n",
       "      <td>0.001401</td>\n",
       "      <td>OH</td>\n",
       "      <td>8.0</td>\n",
       "      <td>1</td>\n",
       "    </tr>\n",
       "    <tr>\n",
       "      <th>3</th>\n",
       "      <td>11550.0</td>\n",
       "      <td>Credit card refinancing</td>\n",
       "      <td>0.002107</td>\n",
       "      <td>OH</td>\n",
       "      <td>5.0</td>\n",
       "      <td>1</td>\n",
       "    </tr>\n",
       "    <tr>\n",
       "      <th>4</th>\n",
       "      <td>25000.0</td>\n",
       "      <td>Debt consolidation</td>\n",
       "      <td>0.002602</td>\n",
       "      <td>VA</td>\n",
       "      <td>10.0</td>\n",
       "      <td>1</td>\n",
       "    </tr>\n",
       "  </tbody>\n",
       "</table>\n",
       "</div>"
      ],
      "text/plain": [
       "   loan_amnt                    title       dti state  emp_length  \\\n",
       "0    28000.0       Debt consolidation  0.002160    NC        10.0   \n",
       "1    12000.0  Credit card refinancing  0.003195    NJ         3.0   \n",
       "2    33600.0       Debt consolidation  0.001401    OH         8.0   \n",
       "3    11550.0  Credit card refinancing  0.002107    OH         5.0   \n",
       "4    25000.0       Debt consolidation  0.002602    VA        10.0   \n",
       "\n",
       "   loan_accepted  \n",
       "0              1  \n",
       "1              1  \n",
       "2              1  \n",
       "3              1  \n",
       "4              1  "
      ]
     },
     "execution_count": 7,
     "metadata": {},
     "output_type": "execute_result"
    }
   ],
   "source": [
    "# Combining approved and rejected data\n",
    "dataset = pd.concat([approved_data, rejected_data])\n",
    "dataset = dataset.dropna()\n",
    "dataset = dataset.reset_index()\n",
    "dataset = dataset.drop('index', axis=1)\n",
    "dataset.head()"
   ]
  },
  {
   "cell_type": "code",
   "execution_count": 8,
   "metadata": {
    "colab": {
     "base_uri": "https://localhost:8080/",
     "height": 102
    },
    "colab_type": "code",
    "id": "q7gokYXotoEN",
    "outputId": "ec977947-bc84-4a40-c0ca-93a07356d7b2"
   },
   "outputs": [
    {
     "data": {
      "text/plain": [
       "array(['Debt consolidation', 'Credit card refinancing', 'Other',\n",
       "       'Business loan', 'Major purchase', 'Car financing',\n",
       "       'Medical expenses', 'Home buying', 'Vacation',\n",
       "       'Moving and relocation', 'Green loan', 'Training',\n",
       "       'Medical expense', 'Student loan', 'Home improvement'],\n",
       "      dtype=object)"
      ]
     },
     "execution_count": 8,
     "metadata": {},
     "output_type": "execute_result"
    }
   ],
   "source": [
    "dataset.title.unique()"
   ]
  },
  {
   "cell_type": "code",
   "execution_count": 9,
   "metadata": {
    "colab": {},
    "colab_type": "code",
    "id": "-hB7pbF9YjtW"
   },
   "outputs": [],
   "source": [
    "temp_dataset = copy.deepcopy(dataset)"
   ]
  },
  {
   "cell_type": "code",
   "execution_count": 34,
   "metadata": {
    "colab": {
     "base_uri": "https://localhost:8080/",
     "height": 2024
    },
    "colab_type": "code",
    "id": "ng6X0hGLYjMh",
    "outputId": "0e34bfd6-babe-4538-a218-b6d27c665b39",
    "scrolled": false
   },
   "outputs": [
    {
     "name": "stdout",
     "output_type": "stream",
     "text": [
      "Before removing outlier data for Debt to Income Ratio\n"
     ]
    },
    {
     "data": {
      "image/png": "[encoded data removed]",
      "text/plain": [
       "<Figure size 432x288 with 1 Axes>"
      ]
     },
     "metadata": {
      "needs_background": "light"
     },
     "output_type": "display_data"
    },
    {
     "name": "stdout",
     "output_type": "stream",
     "text": [
      "After removing outlier data for Debt to Income Ratio\n"
     ]
    },
    {
     "data": {
      "image/png": "[encoded data removed]",
      "text/plain": [
       "<Figure size 432x288 with 1 Axes>"
      ]
     },
     "metadata": {
      "needs_background": "light"
     },
     "output_type": "display_data"
    },
    {
     "name": "stdout",
     "output_type": "stream",
     "text": [
      "Before removing outlier data for Loan Amount\n"
     ]
    },
    {
     "data": {
      "image/png": "[encoded data removed]",
      "text/plain": [
       "<Figure size 432x288 with 1 Axes>"
      ]
     },
     "metadata": {
      "needs_background": "light"
     },
     "output_type": "display_data"
    },
    {
     "name": "stdout",
     "output_type": "stream",
     "text": [
      "After removing outlier data for Loan Amount\n"
     ]
    },
    {
     "data": {
      "image/png": "[encoded data removed]",
      "text/plain": [
       "<Figure size 432x288 with 1 Axes>"
      ]
     },
     "metadata": {
      "needs_background": "light"
     },
     "output_type": "display_data"
    },
    {
     "name": "stdout",
     "output_type": "stream",
     "text": [
      "Scatterplot for employment length\n"
     ]
    },
    {
     "data": {
      "image/png": "[encoded data removed]",
      "text/plain": [
       "<Figure size 432x288 with 1 Axes>"
      ]
     },
     "metadata": {
      "needs_background": "light"
     },
     "output_type": "display_data"
    },
    {
     "data": {
      "image/png": "[encoded data removed]",
      "text/plain": [
       "<Figure size 432x288 with 1 Axes>"
      ]
     },
     "metadata": {
      "needs_background": "light"
     },
     "output_type": "display_data"
    },
    {
     "data": {
      "image/png": "[encoded data removed]",
      "text/plain": [
       "<Figure size 432x288 with 1 Axes>"
      ]
     },
     "metadata": {
      "needs_background": "light"
     },
     "output_type": "display_data"
    }
   ],
   "source": [
    "dataset = copy.deepcopy(temp_dataset)\n",
    "\n",
    "%matplotlib inline\n",
    "import matplotlib.pyplot as plt\n",
    "\n",
    "# Removing outliers from dti column\n",
    "\n",
    "print('Before removing outlier data for Debt to Income Ratio')\n",
    "\n",
    "plt.scatter(range(len(dataset)),dataset.dti)\n",
    "plt.title('Dataset.dti')\n",
    "plt.xlabel('Index No.')\n",
    "plt.ylabel('Debt to Income Ratio')\n",
    "plt.show()\n",
    "\n",
    "\n",
    "dataset = dataset[dataset.dti < dataset.dti.quantile(0.99)]\n",
    "\n",
    "print('After removing outlier data for Debt to Income Ratio')\n",
    "plt.scatter(range(len(dataset)),dataset.dti)\n",
    "plt.title('Dataset.dti')\n",
    "plt.xlabel('Index No.')\n",
    "plt.ylabel('Debt to Income Ratio')\n",
    "plt.show()\n",
    "\n",
    "\n",
    "\n",
    "# Removing outliers from loan_amnt\n",
    "print('Before removing outlier data for Loan Amount')\n",
    "\n",
    "plt.scatter(range(len(dataset)),dataset.loan_amnt)\n",
    "plt.title('Dataset.loan_amnt')\n",
    "plt.xlabel('Index No.')\n",
    "plt.ylabel('Loan Amount')\n",
    "plt.show()\n",
    "\n",
    "dataset = dataset[dataset.loan_amnt < dataset.loan_amnt.quantile(0.99)]\n",
    "\n",
    "print('After removing outlier data for Loan Amount')\n",
    "\n",
    "plt.scatter(range(len(dataset)),dataset.loan_amnt)\n",
    "plt.title('Dataset.loan_amnt')\n",
    "plt.xlabel('Index No.')\n",
    "plt.ylabel('Loan Amount')\n",
    "plt.show()\n",
    "\n",
    "## other scater plots\n",
    "\n",
    "print('Scatterplot for employment length')\n",
    "plt.scatter(range(len(dataset)),dataset.emp_length)\n",
    "plt.title('Dataset.emp_length')\n",
    "plt.xlabel('Index No.')\n",
    "plt.ylabel('Employment Length \\(in Years\\)')\n",
    "plt.show()\n",
    "\n",
    "plt.scatter(dataset.dti, dataset.loan_accepted)\n",
    "plt.title('Loan accepted vs Debt to Income Ratio')\n",
    "plt.xlabel('Debt to Income Ratio')\n",
    "plt.ylabel('Status of Loan Acceptance')\n",
    "plt.show()\n",
    "\n",
    "plt.scatter(dataset.loan_amnt, dataset.loan_accepted)\n",
    "plt.title('Loan accepted vs Loan Amount')\n",
    "plt.xlabel('Loan Amount')\n",
    "plt.ylabel('Status of Loan Acceptance')\n",
    "plt.show()"
   ]
  },
  {
   "cell_type": "code",
   "execution_count": 11,
   "metadata": {
    "colab": {},
    "colab_type": "code",
    "id": "_04KqnIF2CLi"
   },
   "outputs": [],
   "source": [
    "no_outlier_data = copy.deepcopy(dataset)"
   ]
  },
  {
   "cell_type": "code",
   "execution_count": 12,
   "metadata": {
    "colab": {},
    "colab_type": "code",
    "id": "z7ST7Qb7Yjyg"
   },
   "outputs": [
    {
     "name": "stdout",
     "output_type": "stream",
     "text": [
      "0.0 2.0565\n"
     ]
    }
   ],
   "source": [
    "print(min(dataset.dti), max(dataset.dti))"
   ]
  },
  {
   "cell_type": "code",
   "execution_count": 35,
   "metadata": {
    "colab": {
     "base_uri": "https://localhost:8080/",
     "height": 304
    },
    "colab_type": "code",
    "id": "L1l9Csr7Yj31",
    "outputId": "4557631a-0415-4046-86bb-69215a035205"
   },
   "outputs": [
    {
     "name": "stdout",
     "output_type": "stream",
     "text": [
      "(692357, 68)\n"
     ]
    },
    {
     "data": {
      "text/html": [
       "<div>\n",
       "<style scoped>\n",
       "    .dataframe tbody tr th:only-of-type {\n",
       "        vertical-align: middle;\n",
       "    }\n",
       "\n",
       "    .dataframe tbody tr th {\n",
       "        vertical-align: top;\n",
       "    }\n",
       "\n",
       "    .dataframe thead th {\n",
       "        text-align: right;\n",
       "    }\n",
       "</style>\n",
       "<table border=\"1\" class=\"dataframe\">\n",
       "  <thead>\n",
       "    <tr style=\"text-align: right;\">\n",
       "      <th></th>\n",
       "      <th>loan_amnt</th>\n",
       "      <th>dti</th>\n",
       "      <th>emp_length</th>\n",
       "      <th>loan_accepted</th>\n",
       "      <th>title_Business loan</th>\n",
       "      <th>title_Car financing</th>\n",
       "      <th>title_Credit card refinancing</th>\n",
       "      <th>title_Debt consolidation</th>\n",
       "      <th>title_Green loan</th>\n",
       "      <th>title_Home buying</th>\n",
       "      <th>...</th>\n",
       "      <th>state_SD</th>\n",
       "      <th>state_TN</th>\n",
       "      <th>state_TX</th>\n",
       "      <th>state_UT</th>\n",
       "      <th>state_VA</th>\n",
       "      <th>state_VT</th>\n",
       "      <th>state_WA</th>\n",
       "      <th>state_WI</th>\n",
       "      <th>state_WV</th>\n",
       "      <th>state_WY</th>\n",
       "    </tr>\n",
       "  </thead>\n",
       "  <tbody>\n",
       "    <tr>\n",
       "      <th>0</th>\n",
       "      <td>28000.0</td>\n",
       "      <td>0.002160</td>\n",
       "      <td>10.0</td>\n",
       "      <td>1</td>\n",
       "      <td>0</td>\n",
       "      <td>0</td>\n",
       "      <td>0</td>\n",
       "      <td>1</td>\n",
       "      <td>0</td>\n",
       "      <td>0</td>\n",
       "      <td>...</td>\n",
       "      <td>0</td>\n",
       "      <td>0</td>\n",
       "      <td>0</td>\n",
       "      <td>0</td>\n",
       "      <td>0</td>\n",
       "      <td>0</td>\n",
       "      <td>0</td>\n",
       "      <td>0</td>\n",
       "      <td>0</td>\n",
       "      <td>0</td>\n",
       "    </tr>\n",
       "    <tr>\n",
       "      <th>1</th>\n",
       "      <td>12000.0</td>\n",
       "      <td>0.003195</td>\n",
       "      <td>3.0</td>\n",
       "      <td>1</td>\n",
       "      <td>0</td>\n",
       "      <td>0</td>\n",
       "      <td>1</td>\n",
       "      <td>0</td>\n",
       "      <td>0</td>\n",
       "      <td>0</td>\n",
       "      <td>...</td>\n",
       "      <td>0</td>\n",
       "      <td>0</td>\n",
       "      <td>0</td>\n",
       "      <td>0</td>\n",
       "      <td>0</td>\n",
       "      <td>0</td>\n",
       "      <td>0</td>\n",
       "      <td>0</td>\n",
       "      <td>0</td>\n",
       "      <td>0</td>\n",
       "    </tr>\n",
       "    <tr>\n",
       "      <th>2</th>\n",
       "      <td>33600.0</td>\n",
       "      <td>0.001401</td>\n",
       "      <td>8.0</td>\n",
       "      <td>1</td>\n",
       "      <td>0</td>\n",
       "      <td>0</td>\n",
       "      <td>0</td>\n",
       "      <td>1</td>\n",
       "      <td>0</td>\n",
       "      <td>0</td>\n",
       "      <td>...</td>\n",
       "      <td>0</td>\n",
       "      <td>0</td>\n",
       "      <td>0</td>\n",
       "      <td>0</td>\n",
       "      <td>0</td>\n",
       "      <td>0</td>\n",
       "      <td>0</td>\n",
       "      <td>0</td>\n",
       "      <td>0</td>\n",
       "      <td>0</td>\n",
       "    </tr>\n",
       "    <tr>\n",
       "      <th>3</th>\n",
       "      <td>11550.0</td>\n",
       "      <td>0.002107</td>\n",
       "      <td>5.0</td>\n",
       "      <td>1</td>\n",
       "      <td>0</td>\n",
       "      <td>0</td>\n",
       "      <td>1</td>\n",
       "      <td>0</td>\n",
       "      <td>0</td>\n",
       "      <td>0</td>\n",
       "      <td>...</td>\n",
       "      <td>0</td>\n",
       "      <td>0</td>\n",
       "      <td>0</td>\n",
       "      <td>0</td>\n",
       "      <td>0</td>\n",
       "      <td>0</td>\n",
       "      <td>0</td>\n",
       "      <td>0</td>\n",
       "      <td>0</td>\n",
       "      <td>0</td>\n",
       "    </tr>\n",
       "    <tr>\n",
       "      <th>4</th>\n",
       "      <td>25000.0</td>\n",
       "      <td>0.002602</td>\n",
       "      <td>10.0</td>\n",
       "      <td>1</td>\n",
       "      <td>0</td>\n",
       "      <td>0</td>\n",
       "      <td>0</td>\n",
       "      <td>1</td>\n",
       "      <td>0</td>\n",
       "      <td>0</td>\n",
       "      <td>...</td>\n",
       "      <td>0</td>\n",
       "      <td>0</td>\n",
       "      <td>0</td>\n",
       "      <td>0</td>\n",
       "      <td>1</td>\n",
       "      <td>0</td>\n",
       "      <td>0</td>\n",
       "      <td>0</td>\n",
       "      <td>0</td>\n",
       "      <td>0</td>\n",
       "    </tr>\n",
       "  </tbody>\n",
       "</table>\n",
       "<p>5 rows × 68 columns</p>\n",
       "</div>"
      ],
      "text/plain": [
       "   loan_amnt       dti  emp_length  loan_accepted  title_Business loan  \\\n",
       "0    28000.0  0.002160        10.0              1                    0   \n",
       "1    12000.0  0.003195         3.0              1                    0   \n",
       "2    33600.0  0.001401         8.0              1                    0   \n",
       "3    11550.0  0.002107         5.0              1                    0   \n",
       "4    25000.0  0.002602        10.0              1                    0   \n",
       "\n",
       "   title_Car financing  title_Credit card refinancing  \\\n",
       "0                    0                              0   \n",
       "1                    0                              1   \n",
       "2                    0                              0   \n",
       "3                    0                              1   \n",
       "4                    0                              0   \n",
       "\n",
       "   title_Debt consolidation  title_Green loan  title_Home buying    ...     \\\n",
       "0                         1                 0                  0    ...      \n",
       "1                         0                 0                  0    ...      \n",
       "2                         1                 0                  0    ...      \n",
       "3                         0                 0                  0    ...      \n",
       "4                         1                 0                  0    ...      \n",
       "\n",
       "   state_SD  state_TN  state_TX  state_UT  state_VA  state_VT  state_WA  \\\n",
       "0         0         0         0         0         0         0         0   \n",
       "1         0         0         0         0         0         0         0   \n",
       "2         0         0         0         0         0         0         0   \n",
       "3         0         0         0         0         0         0         0   \n",
       "4         0         0         0         0         1         0         0   \n",
       "\n",
       "   state_WI  state_WV  state_WY  \n",
       "0         0         0         0  \n",
       "1         0         0         0  \n",
       "2         0         0         0  \n",
       "3         0         0         0  \n",
       "4         0         0         0  \n",
       "\n",
       "[5 rows x 68 columns]"
      ]
     },
     "execution_count": 35,
     "metadata": {},
     "output_type": "execute_result"
    }
   ],
   "source": [
    "# Performing One Hot Encoding using get_dummies\n",
    "encoded_dataset = pd.get_dummies(dataset, columns=['title', 'state'])\n",
    "encoded_dataset = encoded_dataset.reset_index()\n",
    "encoded_dataset = encoded_dataset.drop('index', axis=1)\n",
    "\n",
    "print(encoded_dataset.shape)\n",
    "encoded_dataset.head()"
   ]
  },
  {
   "cell_type": "code",
   "execution_count": 36,
   "metadata": {
    "colab": {
     "base_uri": "https://localhost:8080/",
     "height": 306
    },
    "colab_type": "code",
    "id": "HTBOCuUCXOu5",
    "outputId": "ce9fedb8-b177-4e8f-95d0-6a05569634dc"
   },
   "outputs": [
    {
     "name": "stdout",
     "output_type": "stream",
     "text": [
      "[[ 1.01902050e-05 -6.23428099e-01  4.61886109e-01 -5.59061779e-02\n",
      "  -9.75578720e-02  9.50001506e-02 -1.63487860e-01 -7.02719172e-03\n",
      "  -2.55891059e-02 -1.36606091e-01 -5.48039525e-02  0.00000000e+00\n",
      "  -7.77360331e-02 -8.10426693e-02 -2.90745947e-01  6.45002148e-06\n",
      "   0.00000000e+00 -3.41968729e-02 -1.82749144e-03 -3.23903199e-02\n",
      "  -1.65905375e-02 -1.31236093e-02 -7.39711214e-02 -9.68382058e-04\n",
      "  -1.01538946e-02  1.04796518e-03 -4.72902699e-03 -8.08495338e-02\n",
      "  -4.07884409e-02 -8.21343582e-03 -2.62437453e-02 -1.97536643e-02\n",
      "  -8.07544442e-03 -1.85920791e-02 -2.20862780e-02 -1.13781909e-02\n",
      "  -1.73207375e-02 -1.20330428e-03 -2.89529745e-02  3.46347037e-06\n",
      "  -2.26698786e-02 -1.73160932e-02 -1.57888868e-03 -3.52578236e-02\n",
      "  -3.46614100e-04 -2.66054290e-03 -2.97712318e-03 -1.98184378e-02\n",
      "  -6.22141851e-03 -1.11479418e-02 -6.94941281e-02 -4.29231179e-02\n",
      "  -1.33930947e-02 -5.22075142e-03 -3.97049288e-02 -3.99094772e-03\n",
      "  -2.38072692e-02 -2.66349919e-03 -3.19396069e-02 -7.79189498e-02\n",
      "  -3.75550912e-03 -2.76953485e-02 -1.57208024e-03 -7.73487089e-03\n",
      "  -1.27751656e-02 -7.64477116e-03 -1.30358835e-03]]\n"
     ]
    }
   ],
   "source": [
    "## Training a logistic regression model\n",
    "from sklearn.linear_model import LogisticRegression\n",
    "from sklearn.model_selection import train_test_split\n",
    "\n",
    "lr_model = LogisticRegression()\n",
    "\n",
    "train_set = encoded_dataset.loc[:, encoded_dataset.columns != 'loan_accepted']\n",
    "target = encoded_dataset['loan_accepted']\n",
    "\n",
    "\n",
    "X_train, X_test, y_train, y_test = train_test_split(\n",
    "    train_set,\n",
    "    target,\n",
    "    test_size=0.4,\n",
    "    random_state=0\n",
    ")\n",
    "\n",
    "lr_model.fit(X_train,y_train)\n",
    "print(lr_model.coef_)"
   ]
  },
  {
   "cell_type": "code",
   "execution_count": 15,
   "metadata": {
    "colab": {
     "base_uri": "https://localhost:8080/",
     "height": 170
    },
    "colab_type": "code",
    "id": "PCjcgkACbbmZ",
    "outputId": "5c82d0e6-0c75-477e-99c2-69fb64b31295"
   },
   "outputs": [
    {
     "name": "stdout",
     "output_type": "stream",
     "text": [
      "Validation Scores for Logistic Regression are: \n",
      "[0.84274126 0.83753791 0.83912667 0.84309477 0.84542982 0.83582485\n",
      " 0.84357623 0.83750993 0.84278183 0.83426013]\n",
      "             precision    recall  f1-score   support\n",
      "\n",
      "          0       0.80      0.89      0.84    134950\n",
      "          1       0.88      0.79      0.83    141993\n",
      "\n",
      "avg / total       0.84      0.84      0.84    276943\n",
      "\n"
     ]
    }
   ],
   "source": [
    "#Cross validating the model and evaluating the model\n",
    "from sklearn.model_selection import  cross_val_score\n",
    "from sklearn.metrics import classification_report\n",
    "\n",
    "print('Validation Scores for Logistic Regression are: ')\n",
    "scores = cross_val_score(lr_model, X_train, y_train, cv=10)\n",
    "print(scores)\n",
    "\n",
    "\n",
    "y_pred = lr_model.predict(X_test)\n",
    "print(classification_report(y_test, y_pred))\n",
    "# precision = True Positive / Predictive Positive\n",
    "# recall = True Positive/ Total Positive (TP = TP+N)"
   ]
  },
  {
   "cell_type": "code",
   "execution_count": 16,
   "metadata": {
    "colab": {
     "base_uri": "https://localhost:8080/",
     "height": 170
    },
    "colab_type": "code",
    "id": "NWkeKil1Y9My",
    "outputId": "0f5688cd-20b2-4554-ff05-28232a27ba9a"
   },
   "outputs": [
    {
     "data": {
      "text/plain": [
       "count    374794.000000\n",
       "mean      12457.790472\n",
       "std       10316.560297\n",
       "min        1000.000000\n",
       "25%        5000.000000\n",
       "50%       10000.000000\n",
       "75%       20000.000000\n",
       "max       50000.000000\n",
       "Name: loan_amnt, dtype: float64"
      ]
     },
     "execution_count": 16,
     "metadata": {},
     "output_type": "execute_result"
    }
   ],
   "source": [
    "rejected_data['loan_amnt'].describe()"
   ]
  },
  {
   "cell_type": "code",
   "execution_count": 17,
   "metadata": {
    "colab": {
     "base_uri": "https://localhost:8080/",
     "height": 170
    },
    "colab_type": "code",
    "id": "yXA_FkGQZEL3",
    "outputId": "aac931eb-4102-45c2-edb0-881756647614"
   },
   "outputs": [
    {
     "data": {
      "text/plain": [
       "count    421095.000000\n",
       "mean      15240.285862\n",
       "std        8571.325901\n",
       "min        1000.000000\n",
       "25%        8500.000000\n",
       "50%       14000.000000\n",
       "75%       20000.000000\n",
       "max       35000.000000\n",
       "Name: loan_amnt, dtype: float64"
      ]
     },
     "execution_count": 17,
     "metadata": {},
     "output_type": "execute_result"
    }
   ],
   "source": [
    "approved_data['loan_amnt'].describe()"
   ]
  },
  {
   "cell_type": "code",
   "execution_count": 19,
   "metadata": {
    "colab": {
     "base_uri": "https://localhost:8080/",
     "height": 119
    },
    "colab_type": "code",
    "id": "_1rN4O7uvJ-o",
    "outputId": "66a1b491-0e2a-4314-ec10-2a993b4f2cb4"
   },
   "outputs": [
    {
     "name": "stdout",
     "output_type": "stream",
     "text": [
      "Predict with loan_amnt:1000, dti:0.08, emp_length:3\n",
      "[[0.45541322 0.54458678]]\n",
      "Predict with loan_amnt:10000, dti:0.08, emp_length:3\n",
      "[[0.43277601 0.56722399]]\n",
      "Predict with loan_amnt:100000, dti:0.08, emp_length:3\n",
      "[[0.23367906 0.76632094]]\n"
     ]
    }
   ],
   "source": [
    "# Testing logistic regression model\n",
    "\n",
    "print('Testing logistic regression model without feature scaling')\n",
    "dti = 0.08\n",
    "emp_length = 3\n",
    "\n",
    "test_person = pd.DataFrame(data=None, columns=train_set.columns)\n",
    "test_person.dti = [dti]\n",
    "test_person.emp_length = [emp_length]\n",
    "test_person['title_Debt consolidation'] = [1]\n",
    "test_person['state_CA'] = [1]\n",
    "test_person = test_person.fillna(0)\n",
    "\n",
    "loan_amnt = 1000\n",
    "test_person.loan_amnt = [loan_amnt]\n",
    "print('Predict with loan_amnt:{0}, dti:{1}, emp_length:{2}'.format(loan_amnt, dti, emp_length))\n",
    "print(lr_model.predict_proba(test_person))\n",
    "\n",
    "\n",
    "loan_amnt = 10000\n",
    "test_person.loan_amnt = [loan_amnt]\n",
    "print('Predict with loan_amnt:{0}, dti:{1}, emp_length:{2}'.format(loan_amnt, dti, emp_length))\n",
    "print(lr_model.predict_proba(test_person))\n",
    "\n",
    "\n",
    "loan_amnt = 100000\n",
    "test_person.loan_amnt = [loan_amnt]\n",
    "print('Predict with loan_amnt:{0}, dti:{1}, emp_length:{2}'.format(loan_amnt, dti, emp_length))\n",
    "print(lr_model.predict_proba(test_person))"
   ]
  },
  {
   "cell_type": "code",
   "execution_count": 20,
   "metadata": {
    "colab": {
     "base_uri": "https://localhost:8080/",
     "height": 187
    },
    "colab_type": "code",
    "id": "gzHxi01avm-z",
    "outputId": "a73d39ad-1d69-442e-c708-f42d81ef2bde"
   },
   "outputs": [
    {
     "name": "stdout",
     "output_type": "stream",
     "text": [
      "Validation Scores for Combined Model are: \n",
      "[0.82897239 0.83094218 0.83168841 0.83079367 0.83221396 0.82939746\n",
      " 0.83024    0.83062517 0.82824198 0.82653282]\n",
      "             precision    recall  f1-score   support\n",
      "\n",
      "          0       0.79      0.89      0.84    134950\n",
      "          1       0.88      0.77      0.82    141993\n",
      "\n",
      "avg / total       0.84      0.83      0.83    276943\n",
      "\n"
     ]
    }
   ],
   "source": [
    "from sklearn.decomposition import PCA\n",
    "from sklearn.linear_model import LogisticRegression\n",
    "from sklearn.pipeline import Pipeline\n",
    "from sklearn.metrics import classification_report\n",
    "\n",
    "pca = PCA(n_components = 5)\n",
    "cls = LogisticRegression()\n",
    "\n",
    "pipe = Pipeline([('pca', pca),('logistic', cls)])\n",
    "pipe.fit(X_train, y_train)\n",
    "predictions = pipe.predict(X_test)\n",
    "\n",
    "scores = cross_val_score(pipe, X_train, y_train, cv=10)\n",
    "\n",
    "print('Validation Scores for Combined Model are: ')\n",
    "print(scores)\n",
    "print(classification_report(y_test, predictions))"
   ]
  },
  {
   "cell_type": "code",
   "execution_count": 21,
   "metadata": {
    "colab": {
     "base_uri": "https://localhost:8080/",
     "height": 119
    },
    "colab_type": "code",
    "id": "V4XsfoA_vzfS",
    "outputId": "8465ba5c-90da-43b3-efb9-f0dbdffce633"
   },
   "outputs": [
    {
     "name": "stdout",
     "output_type": "stream",
     "text": [
      "Predict with loan_amnt:1000, dti:0.08, emp_length:3\n",
      "[[0.4788173 0.5211827]]\n",
      "Predict with loan_amnt:10000, dti:0.08, emp_length:3\n",
      "[[0.40295009 0.59704991]]\n",
      "Predict with loan_amnt:100000, dti:0.08, emp_length:3\n",
      "[[0.02996644 0.97003356]]\n"
     ]
    }
   ],
   "source": [
    "# Testing Combined Model pipeline\n",
    "dti = 0.08\n",
    "emp_length = 3\n",
    "\n",
    "test_person = pd.DataFrame(data=None, columns=train_set.columns)\n",
    "test_person.dti = [dti]\n",
    "test_person.emp_length = [emp_length]\n",
    "test_person.loan_amnt = [loan_amnt]\n",
    "test_person['title_Debt consolidation'] = [1]\n",
    "test_person['state_CA'] = [1]\n",
    "test_person = test_person.fillna(0)\n",
    "\n",
    "loan_amnt = 1000\n",
    "test_person.loan_amnt = [loan_amnt]\n",
    "print('Predict with loan_amnt:{0}, dti:{1}, emp_length:{2}'.format(loan_amnt, dti, emp_length))\n",
    "print(pipe.predict_proba(test_person))\n",
    "\n",
    "\n",
    "loan_amnt = 10000\n",
    "test_person.loan_amnt = [loan_amnt]\n",
    "print('Predict with loan_amnt:{0}, dti:{1}, emp_length:{2}'.format(loan_amnt, dti, emp_length))\n",
    "print(pipe.predict_proba(test_person))\n",
    "\n",
    "\n",
    "loan_amnt = 100000\n",
    "test_person.loan_amnt = [loan_amnt]\n",
    "print('Predict with loan_amnt:{0}, dti:{1}, emp_length:{2}'.format(loan_amnt, dti, emp_length))\n",
    "print(pipe.predict_proba(test_person))"
   ]
  },
  {
   "cell_type": "code",
   "execution_count": 22,
   "metadata": {
    "colab": {
     "base_uri": "https://localhost:8080/",
     "height": 153
    },
    "colab_type": "code",
    "id": "Xd6jJa0LpVOR",
    "outputId": "c76bc22b-1d86-4a52-87cf-72cb05f4a68e"
   },
   "outputs": [
    {
     "name": "stdout",
     "output_type": "stream",
     "text": [
      "Classification report for Random Forest\n",
      "             precision    recall  f1-score   support\n",
      "\n",
      "          0       1.00      1.00      1.00    134950\n",
      "          1       1.00      1.00      1.00    141993\n",
      "\n",
      "avg / total       1.00      1.00      1.00    276943\n",
      "\n"
     ]
    }
   ],
   "source": [
    "# Modeling with Random Forest Classifier\n",
    "from sklearn.ensemble import RandomForestClassifier\n",
    "\n",
    "clf = RandomForestClassifier(n_jobs=-1, n_estimators = 100)\n",
    "clf.fit(X_train, y_train)\n",
    "\n",
    "y_pred = clf.predict(X_test)\n",
    "print('Classification report for Random Forest')\n",
    "print(classification_report(y_test, y_pred))"
   ]
  },
  {
   "cell_type": "code",
   "execution_count": 25,
   "metadata": {
    "colab": {
     "base_uri": "https://localhost:8080/",
     "height": 136
    },
    "colab_type": "code",
    "id": "ld6EfuIyrH3Z",
    "outputId": "a40416ff-0176-4acb-e0ef-0ee98ec805d5"
   },
   "outputs": [
    {
     "name": "stdout",
     "output_type": "stream",
     "text": [
      "Testing with Random Classifier\n",
      "Predict with loan_amnt:1000, dti:0.08, emp_length:3\n",
      "[[0.94 0.06]]\n",
      "Predict with loan_amnt:10000, dti:0.08, emp_length:3\n",
      "[[1. 0.]]\n",
      "Predict with loan_amnt:100000, dti:0.08, emp_length:3\n",
      "[[1. 0.]]\n",
      "[0]\n"
     ]
    }
   ],
   "source": [
    "# Testing with Random Classifier\n",
    "\n",
    "print('Testing with Random Classifier')\n",
    "dti = 0.08\n",
    "emp_length = 3\n",
    "\n",
    "test_person = pd.DataFrame(data=None, columns=train_set.columns)\n",
    "test_person.dti = [dti]\n",
    "test_person.emp_length = [emp_length]\n",
    "test_person.loan_amnt = [loan_amnt]\n",
    "test_person['title_Debt consolidation'] = [1]\n",
    "test_person['state_CA'] = [1]\n",
    "test_person = test_person.fillna(0)\n",
    "\n",
    "loan_amnt = 1000\n",
    "test_person.loan_amnt = [loan_amnt]\n",
    "print('Predict with loan_amnt:{0}, dti:{1}, emp_length:{2}'.format(loan_amnt, dti, emp_length))\n",
    "print(clf.predict_proba(test_person))\n",
    "\n",
    "\n",
    "loan_amnt = 10000\n",
    "test_person.loan_amnt = [loan_amnt]\n",
    "print('Predict with loan_amnt:{0}, dti:{1}, emp_length:{2}'.format(loan_amnt, dti, emp_length))\n",
    "print(clf.predict_proba(test_person))\n",
    "\n",
    "\n",
    "loan_amnt = 100000\n",
    "test_person.loan_amnt = [loan_amnt]\n",
    "print('Predict with loan_amnt:{0}, dti:{1}, emp_length:{2}'.format(loan_amnt, dti, emp_length))\n",
    "print(clf.predict_proba(test_person))\n",
    "print(clf.predict(test_person))"
   ]
  },
  {
   "cell_type": "code",
   "execution_count": 0,
   "metadata": {
    "colab": {},
    "colab_type": "code",
    "id": "vqSDUr7KyigA"
   },
   "outputs": [],
   "source": [
    "## Feature Scaling from here"
   ]
  },
  {
   "cell_type": "code",
   "execution_count": 24,
   "metadata": {
    "colab": {
     "base_uri": "https://localhost:8080/",
     "height": 221
    },
    "colab_type": "code",
    "id": "XcKz7cqwxcur",
    "outputId": "887baf21-24ff-4ea7-e77e-ba5f0b3a30ab"
   },
   "outputs": [
    {
     "name": "stdout",
     "output_type": "stream",
     "text": [
      "0.0 2.0565\n"
     ]
    },
    {
     "data": {
      "text/html": [
       "<div>\n",
       "<style scoped>\n",
       "    .dataframe tbody tr th:only-of-type {\n",
       "        vertical-align: middle;\n",
       "    }\n",
       "\n",
       "    .dataframe tbody tr th {\n",
       "        vertical-align: top;\n",
       "    }\n",
       "\n",
       "    .dataframe thead th {\n",
       "        text-align: right;\n",
       "    }\n",
       "</style>\n",
       "<table border=\"1\" class=\"dataframe\">\n",
       "  <thead>\n",
       "    <tr style=\"text-align: right;\">\n",
       "      <th></th>\n",
       "      <th>loan_amnt</th>\n",
       "      <th>title</th>\n",
       "      <th>dti</th>\n",
       "      <th>state</th>\n",
       "      <th>emp_length</th>\n",
       "      <th>loan_accepted</th>\n",
       "    </tr>\n",
       "  </thead>\n",
       "  <tbody>\n",
       "    <tr>\n",
       "      <th>0</th>\n",
       "      <td>0.794702</td>\n",
       "      <td>Debt consolidation</td>\n",
       "      <td>0.001050</td>\n",
       "      <td>NC</td>\n",
       "      <td>1.0</td>\n",
       "      <td>1</td>\n",
       "    </tr>\n",
       "    <tr>\n",
       "      <th>1</th>\n",
       "      <td>0.323767</td>\n",
       "      <td>Credit card refinancing</td>\n",
       "      <td>0.001554</td>\n",
       "      <td>NJ</td>\n",
       "      <td>0.3</td>\n",
       "      <td>1</td>\n",
       "    </tr>\n",
       "    <tr>\n",
       "      <th>2</th>\n",
       "      <td>0.959529</td>\n",
       "      <td>Debt consolidation</td>\n",
       "      <td>0.000681</td>\n",
       "      <td>OH</td>\n",
       "      <td>0.8</td>\n",
       "      <td>1</td>\n",
       "    </tr>\n",
       "    <tr>\n",
       "      <th>3</th>\n",
       "      <td>0.310522</td>\n",
       "      <td>Credit card refinancing</td>\n",
       "      <td>0.001025</td>\n",
       "      <td>OH</td>\n",
       "      <td>0.5</td>\n",
       "      <td>1</td>\n",
       "    </tr>\n",
       "    <tr>\n",
       "      <th>4</th>\n",
       "      <td>0.706402</td>\n",
       "      <td>Debt consolidation</td>\n",
       "      <td>0.001265</td>\n",
       "      <td>VA</td>\n",
       "      <td>1.0</td>\n",
       "      <td>1</td>\n",
       "    </tr>\n",
       "  </tbody>\n",
       "</table>\n",
       "</div>"
      ],
      "text/plain": [
       "   loan_amnt                    title       dti state  emp_length  \\\n",
       "0   0.794702       Debt consolidation  0.001050    NC         1.0   \n",
       "1   0.323767  Credit card refinancing  0.001554    NJ         0.3   \n",
       "2   0.959529       Debt consolidation  0.000681    OH         0.8   \n",
       "3   0.310522  Credit card refinancing  0.001025    OH         0.5   \n",
       "4   0.706402       Debt consolidation  0.001265    VA         1.0   \n",
       "\n",
       "   loan_accepted  \n",
       "0              1  \n",
       "1              1  \n",
       "2              1  \n",
       "3              1  \n",
       "4              1  "
      ]
     },
     "execution_count": 24,
     "metadata": {},
     "output_type": "execute_result"
    }
   ],
   "source": [
    "### Feature Scaling\n",
    "\n",
    "from sklearn.preprocessing import MinMaxScaler\n",
    "\n",
    "dataset = copy.deepcopy(no_outlier_data)\n",
    "print(min(dataset.dti), max(dataset.dti))\n",
    "\n",
    "def featureScaler(values):\n",
    "    scaler = MinMaxScaler()\n",
    "    if values.shape != (-1,1):\n",
    "        data = np.array(values).reshape(-1,1)\n",
    "    scaler.fit(data)\n",
    "    scaled_values = scaler.transform(data)\n",
    "    return scaler, scaled_values\n",
    "\n",
    "emp_length_scaler, emp_length_scaled = featureScaler(dataset.emp_length)\n",
    "dti_scaler, dti_scaled = featureScaler(dataset.dti)\n",
    "loan_amnt_scaler, loan_amnt_scaled = featureScaler(dataset.loan_amnt)\n",
    "\n",
    "dataset.emp_length = emp_length_scaled\n",
    "dataset.dti = dti_scaled\n",
    "dataset.loan_amnt = loan_amnt_scaled\n",
    "dataset.head()"
   ]
  },
  {
   "cell_type": "code",
   "execution_count": 26,
   "metadata": {
    "colab": {
     "base_uri": "https://localhost:8080/",
     "height": 304
    },
    "colab_type": "code",
    "id": "6c6yQCKmxdUE",
    "outputId": "6c8ccafa-6492-49d7-bb8b-43b590095373"
   },
   "outputs": [
    {
     "name": "stdout",
     "output_type": "stream",
     "text": [
      "(692357, 68)\n"
     ]
    },
    {
     "data": {
      "text/html": [
       "<div>\n",
       "<style scoped>\n",
       "    .dataframe tbody tr th:only-of-type {\n",
       "        vertical-align: middle;\n",
       "    }\n",
       "\n",
       "    .dataframe tbody tr th {\n",
       "        vertical-align: top;\n",
       "    }\n",
       "\n",
       "    .dataframe thead th {\n",
       "        text-align: right;\n",
       "    }\n",
       "</style>\n",
       "<table border=\"1\" class=\"dataframe\">\n",
       "  <thead>\n",
       "    <tr style=\"text-align: right;\">\n",
       "      <th></th>\n",
       "      <th>loan_amnt</th>\n",
       "      <th>dti</th>\n",
       "      <th>emp_length</th>\n",
       "      <th>loan_accepted</th>\n",
       "      <th>title_Business loan</th>\n",
       "      <th>title_Car financing</th>\n",
       "      <th>title_Credit card refinancing</th>\n",
       "      <th>title_Debt consolidation</th>\n",
       "      <th>title_Green loan</th>\n",
       "      <th>title_Home buying</th>\n",
       "      <th>...</th>\n",
       "      <th>state_SD</th>\n",
       "      <th>state_TN</th>\n",
       "      <th>state_TX</th>\n",
       "      <th>state_UT</th>\n",
       "      <th>state_VA</th>\n",
       "      <th>state_VT</th>\n",
       "      <th>state_WA</th>\n",
       "      <th>state_WI</th>\n",
       "      <th>state_WV</th>\n",
       "      <th>state_WY</th>\n",
       "    </tr>\n",
       "  </thead>\n",
       "  <tbody>\n",
       "    <tr>\n",
       "      <th>0</th>\n",
       "      <td>0.794702</td>\n",
       "      <td>0.001050</td>\n",
       "      <td>1.0</td>\n",
       "      <td>1</td>\n",
       "      <td>0</td>\n",
       "      <td>0</td>\n",
       "      <td>0</td>\n",
       "      <td>1</td>\n",
       "      <td>0</td>\n",
       "      <td>0</td>\n",
       "      <td>...</td>\n",
       "      <td>0</td>\n",
       "      <td>0</td>\n",
       "      <td>0</td>\n",
       "      <td>0</td>\n",
       "      <td>0</td>\n",
       "      <td>0</td>\n",
       "      <td>0</td>\n",
       "      <td>0</td>\n",
       "      <td>0</td>\n",
       "      <td>0</td>\n",
       "    </tr>\n",
       "    <tr>\n",
       "      <th>1</th>\n",
       "      <td>0.323767</td>\n",
       "      <td>0.001554</td>\n",
       "      <td>0.3</td>\n",
       "      <td>1</td>\n",
       "      <td>0</td>\n",
       "      <td>0</td>\n",
       "      <td>1</td>\n",
       "      <td>0</td>\n",
       "      <td>0</td>\n",
       "      <td>0</td>\n",
       "      <td>...</td>\n",
       "      <td>0</td>\n",
       "      <td>0</td>\n",
       "      <td>0</td>\n",
       "      <td>0</td>\n",
       "      <td>0</td>\n",
       "      <td>0</td>\n",
       "      <td>0</td>\n",
       "      <td>0</td>\n",
       "      <td>0</td>\n",
       "      <td>0</td>\n",
       "    </tr>\n",
       "    <tr>\n",
       "      <th>2</th>\n",
       "      <td>0.959529</td>\n",
       "      <td>0.000681</td>\n",
       "      <td>0.8</td>\n",
       "      <td>1</td>\n",
       "      <td>0</td>\n",
       "      <td>0</td>\n",
       "      <td>0</td>\n",
       "      <td>1</td>\n",
       "      <td>0</td>\n",
       "      <td>0</td>\n",
       "      <td>...</td>\n",
       "      <td>0</td>\n",
       "      <td>0</td>\n",
       "      <td>0</td>\n",
       "      <td>0</td>\n",
       "      <td>0</td>\n",
       "      <td>0</td>\n",
       "      <td>0</td>\n",
       "      <td>0</td>\n",
       "      <td>0</td>\n",
       "      <td>0</td>\n",
       "    </tr>\n",
       "    <tr>\n",
       "      <th>3</th>\n",
       "      <td>0.310522</td>\n",
       "      <td>0.001025</td>\n",
       "      <td>0.5</td>\n",
       "      <td>1</td>\n",
       "      <td>0</td>\n",
       "      <td>0</td>\n",
       "      <td>1</td>\n",
       "      <td>0</td>\n",
       "      <td>0</td>\n",
       "      <td>0</td>\n",
       "      <td>...</td>\n",
       "      <td>0</td>\n",
       "      <td>0</td>\n",
       "      <td>0</td>\n",
       "      <td>0</td>\n",
       "      <td>0</td>\n",
       "      <td>0</td>\n",
       "      <td>0</td>\n",
       "      <td>0</td>\n",
       "      <td>0</td>\n",
       "      <td>0</td>\n",
       "    </tr>\n",
       "    <tr>\n",
       "      <th>4</th>\n",
       "      <td>0.706402</td>\n",
       "      <td>0.001265</td>\n",
       "      <td>1.0</td>\n",
       "      <td>1</td>\n",
       "      <td>0</td>\n",
       "      <td>0</td>\n",
       "      <td>0</td>\n",
       "      <td>1</td>\n",
       "      <td>0</td>\n",
       "      <td>0</td>\n",
       "      <td>...</td>\n",
       "      <td>0</td>\n",
       "      <td>0</td>\n",
       "      <td>0</td>\n",
       "      <td>0</td>\n",
       "      <td>1</td>\n",
       "      <td>0</td>\n",
       "      <td>0</td>\n",
       "      <td>0</td>\n",
       "      <td>0</td>\n",
       "      <td>0</td>\n",
       "    </tr>\n",
       "  </tbody>\n",
       "</table>\n",
       "<p>5 rows × 68 columns</p>\n",
       "</div>"
      ],
      "text/plain": [
       "   loan_amnt       dti  emp_length  loan_accepted  title_Business loan  \\\n",
       "0   0.794702  0.001050         1.0              1                    0   \n",
       "1   0.323767  0.001554         0.3              1                    0   \n",
       "2   0.959529  0.000681         0.8              1                    0   \n",
       "3   0.310522  0.001025         0.5              1                    0   \n",
       "4   0.706402  0.001265         1.0              1                    0   \n",
       "\n",
       "   title_Car financing  title_Credit card refinancing  \\\n",
       "0                    0                              0   \n",
       "1                    0                              1   \n",
       "2                    0                              0   \n",
       "3                    0                              1   \n",
       "4                    0                              0   \n",
       "\n",
       "   title_Debt consolidation  title_Green loan  title_Home buying    ...     \\\n",
       "0                         1                 0                  0    ...      \n",
       "1                         0                 0                  0    ...      \n",
       "2                         1                 0                  0    ...      \n",
       "3                         0                 0                  0    ...      \n",
       "4                         1                 0                  0    ...      \n",
       "\n",
       "   state_SD  state_TN  state_TX  state_UT  state_VA  state_VT  state_WA  \\\n",
       "0         0         0         0         0         0         0         0   \n",
       "1         0         0         0         0         0         0         0   \n",
       "2         0         0         0         0         0         0         0   \n",
       "3         0         0         0         0         0         0         0   \n",
       "4         0         0         0         0         1         0         0   \n",
       "\n",
       "   state_WI  state_WV  state_WY  \n",
       "0         0         0         0  \n",
       "1         0         0         0  \n",
       "2         0         0         0  \n",
       "3         0         0         0  \n",
       "4         0         0         0  \n",
       "\n",
       "[5 rows x 68 columns]"
      ]
     },
     "execution_count": 26,
     "metadata": {},
     "output_type": "execute_result"
    }
   ],
   "source": [
    "# Performing One Hot Encoding using get_dummies\n",
    "encoded_dataset = pd.get_dummies(dataset, columns=['title', 'state'])\n",
    "encoded_dataset = encoded_dataset.reset_index()\n",
    "encoded_dataset = encoded_dataset.drop('index', axis=1)\n",
    "\n",
    "print(encoded_dataset.shape)\n",
    "encoded_dataset.head()"
   ]
  },
  {
   "cell_type": "code",
   "execution_count": 28,
   "metadata": {
    "colab": {
     "base_uri": "https://localhost:8080/",
     "height": 306
    },
    "colab_type": "code",
    "id": "n2povqIUyipI",
    "outputId": "37d0316f-ab8b-4ec8-96db-40b257e44c93"
   },
   "outputs": [
    {
     "name": "stdout",
     "output_type": "stream",
     "text": [
      "[[ 2.34610606e+00 -1.29103283e+02  4.68116372e+00 -2.26218640e-01\n",
      "  -3.76871969e-01  2.48158069e+00  1.84713361e+00 -2.76883975e-01\n",
      "  -4.55052201e-01 -5.64796071e+00  4.61065421e-01  0.00000000e+00\n",
      "   2.16480259e-01  6.08184667e-02  2.87768877e-01  1.20918980e-01\n",
      "   0.00000000e+00  3.70052591e-01 -2.43482210e-01 -3.44199694e-01\n",
      "  -2.22686851e-01  1.41958539e-01 -3.09938562e-02  3.48402088e-01\n",
      "  -7.43810400e-02  3.72482600e-02 -2.54490078e-01 -5.98083786e-02\n",
      "  -1.07337780e-01 -1.57958006e-01  2.57656353e-03 -8.89488333e-03\n",
      "   3.29643778e-03 -1.37951328e-01 -1.39712849e-01 -1.93804589e-01\n",
      "  -5.88854287e-02 -2.57660808e-02 -1.20971619e-01  2.35248688e-01\n",
      "  -4.15541331e-02 -4.82040251e-01  2.20840836e-01 -2.08629832e-01\n",
      "   5.01035467e-01  2.26202276e-01  2.14846029e-01 -5.09650331e-02\n",
      "   9.21647664e-02  1.48370914e-01 -2.85999082e-01 -1.14322154e-02\n",
      "   1.64157086e-01  4.48356996e-02 -3.69339288e-02 -1.53792434e-01\n",
      "  -2.85211717e-01  1.60643586e-02 -2.35885079e-01  1.44485801e-01\n",
      "   2.74834044e-02 -6.57266944e-02  6.69733607e-02  1.98255100e-01\n",
      "   1.45373352e-02 -1.72899474e-01  2.26242948e-01]]\n"
     ]
    }
   ],
   "source": [
    "## Training a logistic regression model\n",
    "from sklearn.linear_model import LogisticRegression\n",
    "from sklearn.model_selection import train_test_split\n",
    "\n",
    "lr_model_fs = LogisticRegression()\n",
    "\n",
    "train_set = encoded_dataset.loc[:, encoded_dataset.columns != 'loan_accepted']\n",
    "target = encoded_dataset['loan_accepted']\n",
    "\n",
    "\n",
    "X_train, X_test, y_train, y_test = train_test_split(\n",
    "    train_set,\n",
    "    target,\n",
    "    test_size=0.4,\n",
    "    random_state=0\n",
    ")\n",
    "\n",
    "lr_model_fs.fit(X_train,y_train)\n",
    "print(lr_model_fs.coef_)"
   ]
  },
  {
   "cell_type": "code",
   "execution_count": 29,
   "metadata": {
    "colab": {
     "base_uri": "https://localhost:8080/",
     "height": 187
    },
    "colab_type": "code",
    "id": "WewfoAsRyisW",
    "outputId": "01d19223-22a6-4e7b-e9de-84474429f6c2"
   },
   "outputs": [
    {
     "name": "stdout",
     "output_type": "stream",
     "text": [
      "Validation Score for Logistic Regression with Feature Scaling\n",
      "[0.96926077 0.96969332 0.96986183 0.97200356 0.97053513 0.96974074\n",
      " 0.96752606 0.96872969 0.96728533 0.96844082]\n",
      "             precision    recall  f1-score   support\n",
      "\n",
      "          0       0.98      0.95      0.97    134950\n",
      "          1       0.96      0.98      0.97    141993\n",
      "\n",
      "avg / total       0.97      0.97      0.97    276943\n",
      "\n"
     ]
    }
   ],
   "source": [
    "#Cross validating the model and evaluating the model\n",
    "from sklearn.model_selection import  cross_val_score\n",
    "from sklearn.metrics import classification_report\n",
    "\n",
    "print('Validation Score for Logistic Regression with Feature Scaling')\n",
    "scores = cross_val_score(lr_model_fs, X_train, y_train, cv=10)\n",
    "print(scores)\n",
    "\n",
    "\n",
    "y_pred = lr_model_fs.predict(X_test)\n",
    "print(classification_report(y_test, y_pred))\n",
    "# precision = True Positive / Predictive Positive\n",
    "# recall = True Positive/ Total Positive (TP = TP+N)"
   ]
  },
  {
   "cell_type": "code",
   "execution_count": 30,
   "metadata": {
    "colab": {
     "base_uri": "https://localhost:8080/",
     "height": 119
    },
    "colab_type": "code",
    "id": "iwDJY32UzgIF",
    "outputId": "25f5eea2-5ca4-4b22-d2a6-7c5ad9c67868"
   },
   "outputs": [
    {
     "name": "stdout",
     "output_type": "stream",
     "text": [
      "Testing Model with feature scaling\n",
      "Predict with loan_amnt:1000, dti:0.08, emp_length:3\n",
      "[[0.94973779 0.05026221]]\n",
      "Predict with loan_amnt:10000, dti:0.08, emp_length:3\n",
      "[[0.91031175 0.08968825]]\n",
      "Predict with loan_amnt:100000, dti:0.08, emp_length:3\n",
      "[[0.01989087 0.98010913]]\n"
     ]
    }
   ],
   "source": [
    "# Testing model with feature scaling\n",
    "\n",
    "print('Testing Model with feature scaling')\n",
    "dti = 0.08\n",
    "emp_length = 3\n",
    "\n",
    "test_person = pd.DataFrame(data=None, columns=train_set.columns)\n",
    "\n",
    "test_person.dti = [dti]\n",
    "test_person.dti = dti_scaler.transform(np.array(test_person.dti).reshape(-1,1))\n",
    "\n",
    "test_person.emp_length = [emp_length]\n",
    "test_person.emp_length = emp_length_scaler.transform(np.array(test_person.emp_length).reshape(-1,1))\n",
    "\n",
    "test_person['title_Debt consolidation'] = [1]\n",
    "test_person['state_CA'] = [1]\n",
    "test_person = test_person.fillna(0)\n",
    "\n",
    "loan_amnt = 1000\n",
    "test_person.loan_amnt = loan_amnt_scaler.transform([[loan_amnt]])\n",
    "print('Predict with loan_amnt:{0}, dti:{1}, emp_length:{2}'.format(loan_amnt, dti, emp_length))\n",
    "print(lr_model_fs.predict_proba(test_person))\n",
    "\n",
    "\n",
    "loan_amnt = 10000\n",
    "test_person.loan_amnt = loan_amnt_scaler.transform([[loan_amnt]])\n",
    "print('Predict with loan_amnt:{0}, dti:{1}, emp_length:{2}'.format(loan_amnt, dti, emp_length))\n",
    "print(lr_model_fs.predict_proba(test_person))\n",
    "\n",
    "\n",
    "loan_amnt = 100000\n",
    "test_person.loan_amnt = loan_amnt_scaler.transform([[loan_amnt]])\n",
    "print('Predict with loan_amnt:{0}, dti:{1}, emp_length:{2}'.format(loan_amnt, dti, emp_length))\n",
    "print(lr_model_fs.predict_proba(test_person))"
   ]
  },
  {
   "cell_type": "code",
   "execution_count": 37,
   "metadata": {
    "colab": {},
    "colab_type": "code",
    "id": "DxA2fePOzfJF"
   },
   "outputs": [
    {
     "name": "stdout",
     "output_type": "stream",
     "text": [
      "Probabilty of the person returning money:: 0.7700110605144317\n",
      "Maximum Loan::  1763.4621878488026\n"
     ]
    }
   ],
   "source": [
    "# using utility function to calculate the maximum loan\n",
    "def utility_function(prob, interest = 0.1, exp_utility = 2000, num_months = 6):\n",
    "    '''\n",
    "        prob = probability of returning money\n",
    "        loan_amnt = Amount loaned\n",
    "        exp_utility = Minimum expected utility that Lending Club wants\n",
    "        num_months = lending period\n",
    "        Expected Utility = prob * loan_amnt * (1 + interest)^num_months - loan_amnt*(1 - prob) \n",
    "    '''\n",
    "    max_loan = float(exp_utility) / (prob * (1 + interest)**num_months -  (1 - prob))\n",
    "    return max_loan\n",
    "\n",
    "  \n",
    "loan_amnt = 10000\n",
    "dti = 0.23\n",
    "emp_length = 5\n",
    "\n",
    "test_person = pd.DataFrame(data=None, columns=train_set.columns)\n",
    "\n",
    "test_person.dti = [dti]\n",
    "test_person.emp_length = [emp_length]\n",
    "test_person.loan_amnt = [loan_amnt]\n",
    "\n",
    "# test_person.dti = dti_scaler.transform(np.array(test_person.dti).reshape(-1,1))\n",
    "# test_person.emp_length = emp_length_scaler.transform(np.array(test_person.emp_length).reshape(-1,1))\n",
    "# test_person.loan_amnt = loan_amnt_scaler.transform(np.array(test_person.loan_amnt).reshape(-1,1))\n",
    "\n",
    "test_person['title_Business loan'] = [1]\n",
    "test_person['state_CA'] = [1]\n",
    "test_person = test_person.fillna(0)\n",
    "\n",
    "\n",
    "proba = lr_model.predict_proba(test_person)\n",
    "print('Probabilty of the person returning money::', proba[0][1])\n",
    "print('Maximum Loan:: ', utility_function(proba[0][1]))"
   ]
  },
  {
   "cell_type": "code",
   "execution_count": 1,
   "metadata": {
    "colab": {},
    "colab_type": "code",
    "id": "VXFgGwB6yiv4"
   },
   "outputs": [],
   "source": [
    "# actual function to calculate maximum loan\n",
    "\n",
    "def calc_max_loan(model, data, loan_amnt=1, max_loan_amnt=10000, feature_scaling=False, scaler = None):\n",
    "    '''\n",
    "        model: The classification model that is being used to get classify whether the application gets approved or not\n",
    "        data: Data frame with single row of data about information of a certain person\n",
    "        loan_amnt: Minimum loan amount that Lending Club gives out\n",
    "        max_loan_amnt: Maximum loan provided by Lending Club\n",
    "        feature_scaling: \n",
    "            Is feature scaling used in while building model for loan amount?\n",
    "            If using feature scaling then all the values in 'data' that have been feature scaled in the model\n",
    "            should be feature scaled.\n",
    "        scaler: the MaxMinScaler that was used to perform feature scaling for loan amount.\n",
    "    '''\n",
    "  \n",
    "    while True:\n",
    "        loan_amnt += 1\n",
    "\n",
    "        data.loan_amnt = [loan_amnt]\n",
    "        if feature_scaling:\n",
    "            data.loan_amnt = scaler.transform(np.array(person_info.loan_amnt).reshape(-1,1))\n",
    "\n",
    "        loan_status = model.predict(data.loc[:, data.columns != 'loan_accepted'])\n",
    "        if loan_status == 0:\n",
    "            if feature_scaling:\n",
    "                print('Maximum Loan Amount::', scaler.inverse_transform(scaled_loan_amnt))\n",
    "            else:\n",
    "                print('Maximum Loan Amount::', [loan_amnt])\n",
    "            break\n",
    "\n",
    "        if loan_amnt >= max_loan_amnt:\n",
    "            print('Maximum Loan::', loan_amnt)\n",
    "            break\n",
    "      "
   ]
  }
 ],
 "metadata": {
  "colab": {
   "collapsed_sections": [],
   "name": "cs156-assignment-2.ipynb",
   "provenance": [],
   "toc_visible": true,
   "version": "0.3.2"
  },
  "kernelspec": {
   "display_name": "Python 3",
   "language": "python",
   "name": "python3"
  },
  "language_info": {
   "codemirror_mode": {
    "name": "ipython",
    "version": 3
   },
   "file_extension": ".py",
   "mimetype": "text/x-python",
   "name": "python",
   "nbconvert_exporter": "python",
   "pygments_lexer": "ipython3",
   "version": "3.6.5"
  }
 },
 "nbformat": 4,
 "nbformat_minor": 1
}
